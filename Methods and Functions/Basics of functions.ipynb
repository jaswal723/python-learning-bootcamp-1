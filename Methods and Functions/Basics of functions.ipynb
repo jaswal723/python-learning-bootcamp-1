{
 "cells": [
  {
   "cell_type": "code",
   "execution_count": 1,
   "id": "26b4607d-1020-434b-b7a7-beb7768efbf9",
   "metadata": {},
   "outputs": [],
   "source": [
    "mylist = [1,2,3]"
   ]
  },
  {
   "cell_type": "code",
   "execution_count": 4,
   "id": "b5906941-ab03-4513-a6e6-487db9075189",
   "metadata": {},
   "outputs": [],
   "source": [
    "from platform import python_version"
   ]
  },
  {
   "cell_type": "code",
   "execution_count": 7,
   "id": "68ba9d8a-683b-4874-a60d-308195ec31c7",
   "metadata": {},
   "outputs": [
    {
     "name": "stdout",
     "output_type": "stream",
     "text": [
      "3.13.5\n"
     ]
    }
   ],
   "source": [
    "print(python_version())"
   ]
  },
  {
   "cell_type": "code",
   "execution_count": 8,
   "id": "4e5e85dd-a90c-4098-9ba2-78cb567a62a2",
   "metadata": {},
   "outputs": [],
   "source": [
    "def name_of_function():\n",
    "    '''\n",
    "    This is a test function\n",
    "    '''\n",
    "    print(\"Hello World\")"
   ]
  },
  {
   "cell_type": "code",
   "execution_count": 9,
   "id": "eb981bbd-fb71-4f98-a79e-35ff1e022dce",
   "metadata": {},
   "outputs": [
    {
     "name": "stdout",
     "output_type": "stream",
     "text": [
      "Hello World\n"
     ]
    }
   ],
   "source": [
    "name_of_function()"
   ]
  },
  {
   "cell_type": "code",
   "execution_count": 10,
   "id": "7c1eeb75-2656-4f71-86ce-8524e0e90190",
   "metadata": {},
   "outputs": [],
   "source": [
    "def name_of_function(name):\n",
    "    print(f'Hello {name}')"
   ]
  },
  {
   "cell_type": "code",
   "execution_count": 11,
   "id": "cc849c58-f5a2-4f87-9b10-dd84b12dcd2f",
   "metadata": {},
   "outputs": [
    {
     "name": "stdout",
     "output_type": "stream",
     "text": [
      "Hello Rithik\n"
     ]
    }
   ],
   "source": [
    "name_of_function(\"Rithik\")"
   ]
  },
  {
   "cell_type": "code",
   "execution_count": 12,
   "id": "f23711e1-358c-47af-ba4a-842b5f3d53f7",
   "metadata": {},
   "outputs": [],
   "source": [
    "def add_num(n1,n2):\n",
    "    print(n1+n2)"
   ]
  },
  {
   "cell_type": "code",
   "execution_count": 13,
   "id": "cd41589b-00f8-42dd-95a4-f3eadf428728",
   "metadata": {},
   "outputs": [
    {
     "name": "stdout",
     "output_type": "stream",
     "text": [
      "30\n"
     ]
    }
   ],
   "source": [
    "add_num(7,23)"
   ]
  },
  {
   "cell_type": "code",
   "execution_count": 14,
   "id": "a839bdf2-e388-4c6e-9160-559fc4333a92",
   "metadata": {},
   "outputs": [],
   "source": [
    "def add_num(n1,n2):\n",
    "    return n1+n2"
   ]
  },
  {
   "cell_type": "code",
   "execution_count": 15,
   "id": "b24f65f0-d240-4888-b727-8336101cf6ad",
   "metadata": {},
   "outputs": [],
   "source": [
    "result = add_num(23,723)"
   ]
  },
  {
   "cell_type": "code",
   "execution_count": 16,
   "id": "3b9a2a6f-b6a3-448d-b13f-a4f928d84585",
   "metadata": {},
   "outputs": [
    {
     "data": {
      "text/plain": [
       "746"
      ]
     },
     "execution_count": 16,
     "metadata": {},
     "output_type": "execute_result"
    }
   ],
   "source": [
    "result"
   ]
  },
  {
   "cell_type": "code",
   "execution_count": 17,
   "id": "5bdc59c6-6c30-42fb-b2c5-f22fa01013d1",
   "metadata": {},
   "outputs": [],
   "source": [
    "def add_num(n1,n2=7):\n",
    "    return n1+n2"
   ]
  },
  {
   "cell_type": "code",
   "execution_count": 18,
   "id": "6f885b54-72f1-48e7-9a1d-0a692fe968d5",
   "metadata": {},
   "outputs": [],
   "source": [
    "result=add_num(13)"
   ]
  },
  {
   "cell_type": "code",
   "execution_count": 19,
   "id": "cb5ba087-10cd-47b2-b8cb-742a277622e2",
   "metadata": {},
   "outputs": [
    {
     "data": {
      "text/plain": [
       "20"
      ]
     },
     "execution_count": 19,
     "metadata": {},
     "output_type": "execute_result"
    }
   ],
   "source": [
    "result"
   ]
  },
  {
   "cell_type": "code",
   "execution_count": 21,
   "id": "f5b3120e-1515-4ac2-822e-dea35eff2171",
   "metadata": {},
   "outputs": [],
   "source": [
    "def add_num(n1,n2):\n",
    "    return n1+n2"
   ]
  },
  {
   "cell_type": "code",
   "execution_count": 22,
   "id": "300724f0-9300-49db-ba8a-3d8ad4c2aad2",
   "metadata": {},
   "outputs": [],
   "source": [
    "result = add_num('Hello','World')"
   ]
  },
  {
   "cell_type": "code",
   "execution_count": 23,
   "id": "713347ca-37bd-4e19-bd9c-7b6d55c0f67f",
   "metadata": {},
   "outputs": [
    {
     "data": {
      "text/plain": [
       "'HelloWorld'"
      ]
     },
     "execution_count": 23,
     "metadata": {},
     "output_type": "execute_result"
    }
   ],
   "source": [
    "result"
   ]
  },
  {
   "cell_type": "code",
   "execution_count": 26,
   "id": "abb04319-ed61-4e2d-b0f8-1b00cd711b72",
   "metadata": {},
   "outputs": [],
   "source": [
    "def even_check(number):\n",
    "    return number%2==0"
   ]
  },
  {
   "cell_type": "code",
   "execution_count": 27,
   "id": "c248ca44-610c-4353-9982-00e15a8461d7",
   "metadata": {},
   "outputs": [
    {
     "data": {
      "text/plain": [
       "False"
      ]
     },
     "execution_count": 27,
     "metadata": {},
     "output_type": "execute_result"
    }
   ],
   "source": [
    "even_check(5)"
   ]
  },
  {
   "cell_type": "code",
   "execution_count": 28,
   "id": "c1d76d58-9b77-4c0f-ad6f-e524f8f9873b",
   "metadata": {},
   "outputs": [
    {
     "data": {
      "text/plain": [
       "True"
      ]
     },
     "execution_count": 28,
     "metadata": {},
     "output_type": "execute_result"
    }
   ],
   "source": [
    "even_check(10)"
   ]
  },
  {
   "cell_type": "code",
   "execution_count": 30,
   "id": "f850e850-5089-42dc-b65f-26ca041cc047",
   "metadata": {},
   "outputs": [],
   "source": [
    "def even_check_list(numbers):\n",
    "    for num in numbers:\n",
    "        if num%2==0:\n",
    "            return True\n",
    "    return False"
   ]
  },
  {
   "cell_type": "code",
   "execution_count": 31,
   "id": "f10b0390-b241-4397-b378-e2f8ab06ca3c",
   "metadata": {},
   "outputs": [
    {
     "data": {
      "text/plain": [
       "True"
      ]
     },
     "execution_count": 31,
     "metadata": {},
     "output_type": "execute_result"
    }
   ],
   "source": [
    "even_check_list([1,2,3,4])"
   ]
  },
  {
   "cell_type": "code",
   "execution_count": 32,
   "id": "d8973d72-28a6-4aa6-bfcb-d588a35dfcc2",
   "metadata": {},
   "outputs": [
    {
     "data": {
      "text/plain": [
       "False"
      ]
     },
     "execution_count": 32,
     "metadata": {},
     "output_type": "execute_result"
    }
   ],
   "source": [
    "even_check_list([1,3,5,7])"
   ]
  },
  {
   "cell_type": "code",
   "execution_count": 35,
   "id": "ac2ed327-97ef-4493-8870-d61442122aeb",
   "metadata": {},
   "outputs": [],
   "source": [
    "def event_check_list(numbers):\n",
    "    event_numbers = []\n",
    "    for num in numbers:\n",
    "        if num%2==0:\n",
    "            event_numbers.append(num)\n",
    "    return event_numbers"
   ]
  },
  {
   "cell_type": "code",
   "execution_count": 36,
   "id": "1414859e-ec35-485d-bb15-0a558dbc9db0",
   "metadata": {},
   "outputs": [
    {
     "data": {
      "text/plain": [
       "[2, 4, 6, 8]"
      ]
     },
     "execution_count": 36,
     "metadata": {},
     "output_type": "execute_result"
    }
   ],
   "source": [
    "event_check_list([1,2,3,4,5,6,7,8,9])"
   ]
  },
  {
   "cell_type": "code",
   "execution_count": 37,
   "id": "623fcde8-21c8-484c-af82-74ee195627f3",
   "metadata": {},
   "outputs": [],
   "source": [
    "work_hours = [('Kritika',100),('Mukul',800),('Rithik',400)]"
   ]
  },
  {
   "cell_type": "code",
   "execution_count": 39,
   "id": "8f5313d0-0118-44b5-bce3-fbf268105eef",
   "metadata": {},
   "outputs": [],
   "source": [
    "def employee_check(work_hours):\n",
    "    current_max=0\n",
    "    employee_of_month= ''\n",
    "\n",
    "    for employee,hours in work_hours:\n",
    "        if hours > current_max:\n",
    "            current_max = hours\n",
    "            employee_of_month = employee\n",
    "    return (employee_of_month,hours)"
   ]
  },
  {
   "cell_type": "code",
   "execution_count": 40,
   "id": "99561922-8c62-499c-8e37-8f8f23b07e2c",
   "metadata": {},
   "outputs": [],
   "source": [
    "name,hours = employee_check(work_hours)"
   ]
  },
  {
   "cell_type": "code",
   "execution_count": 41,
   "id": "d63e3229-88ea-4320-83ab-e0ec0e20f6d1",
   "metadata": {},
   "outputs": [
    {
     "data": {
      "text/plain": [
       "'Mukul'"
      ]
     },
     "execution_count": 41,
     "metadata": {},
     "output_type": "execute_result"
    }
   ],
   "source": [
    "name"
   ]
  },
  {
   "cell_type": "code",
   "execution_count": 42,
   "id": "9561c606-b222-42a0-ac13-55d1b72711d5",
   "metadata": {},
   "outputs": [
    {
     "data": {
      "text/plain": [
       "400"
      ]
     },
     "execution_count": 42,
     "metadata": {},
     "output_type": "execute_result"
    }
   ],
   "source": [
    "hours"
   ]
  },
  {
   "cell_type": "code",
   "execution_count": 43,
   "id": "06610bed-5d44-45b0-a00d-6a287288583e",
   "metadata": {},
   "outputs": [
    {
     "ename": "ValueError",
     "evalue": "not enough values to unpack (expected 3, got 2)",
     "output_type": "error",
     "traceback": [
      "\u001b[1;31m---------------------------------------------------------------------------\u001b[0m",
      "\u001b[1;31mValueError\u001b[0m                                Traceback (most recent call last)",
      "Cell \u001b[1;32mIn[43], line 1\u001b[0m\n\u001b[1;32m----> 1\u001b[0m name,hours,location \u001b[38;5;241m=\u001b[39m employee_check(work_hours)\n",
      "\u001b[1;31mValueError\u001b[0m: not enough values to unpack (expected 3, got 2)"
     ]
    }
   ],
   "source": [
    "name,hours,location = employee_check(work_hours)"
   ]
  },
  {
   "cell_type": "code",
   "execution_count": 44,
   "id": "4e171757-ba11-485d-aafd-c7994523cec3",
   "metadata": {},
   "outputs": [],
   "source": [
    "from random import shuffle"
   ]
  },
  {
   "cell_type": "code",
   "execution_count": 45,
   "id": "cfa5c386-a91c-4088-b8ea-f9da4a257680",
   "metadata": {},
   "outputs": [],
   "source": [
    "mylist = [' ','O',' ']"
   ]
  },
  {
   "cell_type": "code",
   "execution_count": 46,
   "id": "d8cc0b35-a0e8-4850-a41b-e091f4b8ce2b",
   "metadata": {},
   "outputs": [],
   "source": [
    "def player_guess():\n",
    "    guess=''\n",
    "    while guess not in ['0','1','2']:\n",
    "        guess=input(\"Pick a number - 0,1 or 2\")\n",
    "    return int(guess)"
   ]
  },
  {
   "cell_type": "code",
   "execution_count": 47,
   "id": "de03052a-1c87-426f-86b7-66339fe1bda6",
   "metadata": {},
   "outputs": [],
   "source": [
    "def check_guess(mylist,guess):\n",
    "    if mylist[guess]=='O':\n",
    "        print(\"Correct!\")\n",
    "    else:\n",
    "        print(\"Wrong guess!\")\n",
    "        print(mylist)"
   ]
  },
  {
   "cell_type": "code",
   "execution_count": 50,
   "id": "9ae3bbe1-4763-4c49-8682-cd501faa732f",
   "metadata": {},
   "outputs": [],
   "source": [
    "def shuffled_list(mylist):\n",
    "    shuffle(mylist)\n",
    "    return mylist\n",
    "    "
   ]
  },
  {
   "cell_type": "code",
   "execution_count": 56,
   "id": "38fc7a9d-2bd0-42fe-9431-4142b797ef82",
   "metadata": {},
   "outputs": [
    {
     "name": "stdin",
     "output_type": "stream",
     "text": [
      "Pick a number - 0,1 or 2 1\n"
     ]
    },
    {
     "name": "stdout",
     "output_type": "stream",
     "text": [
      "Wrong guess!\n",
      "[' ', ' ', 'O']\n"
     ]
    }
   ],
   "source": [
    "mylist = [' ','O',' ']\n",
    "mixlist = shuffled_list(mylist)\n",
    "guess = player_guess()\n",
    "check_guess(mixlist,guess)"
   ]
  }
 ],
 "metadata": {
  "kernelspec": {
   "display_name": "Python [conda env:base] *",
   "language": "python",
   "name": "conda-base-py"
  },
  "language_info": {
   "codemirror_mode": {
    "name": "ipython",
    "version": 3
   },
   "file_extension": ".py",
   "mimetype": "text/x-python",
   "name": "python",
   "nbconvert_exporter": "python",
   "pygments_lexer": "ipython3",
   "version": "3.13.5"
  }
 },
 "nbformat": 4,
 "nbformat_minor": 5
}
