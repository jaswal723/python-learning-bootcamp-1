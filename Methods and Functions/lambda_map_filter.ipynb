{
 "cells": [
  {
   "cell_type": "code",
   "execution_count": 1,
   "id": "691f8374-e37c-4a27-90f4-e946986653f9",
   "metadata": {},
   "outputs": [],
   "source": [
    "def square(num):\n",
    "    return num**2"
   ]
  },
  {
   "cell_type": "code",
   "execution_count": 2,
   "id": "541e5840-f0d8-40c0-9c31-9128922b9a6b",
   "metadata": {},
   "outputs": [
    {
     "data": {
      "text/plain": [
       "25"
      ]
     },
     "execution_count": 2,
     "metadata": {},
     "output_type": "execute_result"
    }
   ],
   "source": [
    "square(5)"
   ]
  },
  {
   "cell_type": "code",
   "execution_count": 3,
   "id": "5d03ff2f-009e-4429-902a-2173b7dde35f",
   "metadata": {},
   "outputs": [],
   "source": [
    "mylist = [1,2,3,4,5]"
   ]
  },
  {
   "cell_type": "code",
   "execution_count": 4,
   "id": "f453cf45-d868-43f9-9d74-c38db6b45641",
   "metadata": {},
   "outputs": [
    {
     "data": {
      "text/plain": [
       "[1, 4, 9, 16, 25]"
      ]
     },
     "execution_count": 4,
     "metadata": {},
     "output_type": "execute_result"
    }
   ],
   "source": [
    "list(map(square,mylist))"
   ]
  },
  {
   "cell_type": "code",
   "execution_count": 5,
   "id": "9bbfab3d-ed20-4d3d-bdf1-faba673f2fbb",
   "metadata": {},
   "outputs": [],
   "source": [
    "def check_even(num):\n",
    "    return num%2==0"
   ]
  },
  {
   "cell_type": "code",
   "execution_count": 6,
   "id": "db4f442c-32c2-423e-9b78-e3a76c98c19c",
   "metadata": {},
   "outputs": [
    {
     "data": {
      "text/plain": [
       "True"
      ]
     },
     "execution_count": 6,
     "metadata": {},
     "output_type": "execute_result"
    }
   ],
   "source": [
    "check_even(20)"
   ]
  },
  {
   "cell_type": "code",
   "execution_count": 7,
   "id": "b9d99ca0-d856-41d0-b874-99a0ff2646f2",
   "metadata": {},
   "outputs": [
    {
     "data": {
      "text/plain": [
       "[2, 4]"
      ]
     },
     "execution_count": 7,
     "metadata": {},
     "output_type": "execute_result"
    }
   ],
   "source": [
    "list(filter(check_even,mylist))"
   ]
  },
  {
   "cell_type": "code",
   "execution_count": 14,
   "id": "2b483484-ed14-4756-8c12-984e747fda5a",
   "metadata": {},
   "outputs": [],
   "source": [
    "square = lambda num: num**2"
   ]
  },
  {
   "cell_type": "code",
   "execution_count": 15,
   "id": "bf77e083-6fd4-4efd-a7eb-761a65222c53",
   "metadata": {},
   "outputs": [
    {
     "data": {
      "text/plain": [
       "25"
      ]
     },
     "execution_count": 15,
     "metadata": {},
     "output_type": "execute_result"
    }
   ],
   "source": [
    "square(5)"
   ]
  },
  {
   "cell_type": "code",
   "execution_count": 17,
   "id": "5198ff98-e929-415c-986c-a8025e3a8646",
   "metadata": {},
   "outputs": [
    {
     "data": {
      "text/plain": [
       "[1, 4, 9, 16, 25]"
      ]
     },
     "execution_count": 17,
     "metadata": {},
     "output_type": "execute_result"
    }
   ],
   "source": [
    "list(map(lambda num:num**2,mylist))"
   ]
  },
  {
   "cell_type": "code",
   "execution_count": 18,
   "id": "79b5b5e5-a90c-4d15-9392-5c958863863c",
   "metadata": {},
   "outputs": [
    {
     "data": {
      "text/plain": [
       "[2, 4]"
      ]
     },
     "execution_count": 18,
     "metadata": {},
     "output_type": "execute_result"
    }
   ],
   "source": [
    "list(filter(lambda num:num%2==0,mylist))"
   ]
  },
  {
   "cell_type": "code",
   "execution_count": 19,
   "id": "2cee69da-52f9-45af-9fbe-b19fc37c360d",
   "metadata": {},
   "outputs": [],
   "source": [
    "mylist = ['Rithik', 'Kritika']"
   ]
  },
  {
   "cell_type": "code",
   "execution_count": 20,
   "id": "8f4e44cf-7926-41f1-8ef6-04f1d7db62d7",
   "metadata": {},
   "outputs": [
    {
     "data": {
      "text/plain": [
       "['R', 'K']"
      ]
     },
     "execution_count": 20,
     "metadata": {},
     "output_type": "execute_result"
    }
   ],
   "source": [
    "list(map(lambda x:x[0],mylist))"
   ]
  }
 ],
 "metadata": {
  "kernelspec": {
   "display_name": "Python [conda env:base] *",
   "language": "python",
   "name": "conda-base-py"
  },
  "language_info": {
   "codemirror_mode": {
    "name": "ipython",
    "version": 3
   },
   "file_extension": ".py",
   "mimetype": "text/x-python",
   "name": "python",
   "nbconvert_exporter": "python",
   "pygments_lexer": "ipython3",
   "version": "3.13.5"
  }
 },
 "nbformat": 4,
 "nbformat_minor": 5
}
