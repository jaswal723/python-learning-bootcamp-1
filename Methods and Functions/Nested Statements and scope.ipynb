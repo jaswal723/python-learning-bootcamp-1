{
 "cells": [
  {
   "cell_type": "code",
   "execution_count": 2,
   "id": "fda827e9-085c-4aa9-baf7-1e3fe37ce141",
   "metadata": {},
   "outputs": [],
   "source": [
    "name = 'Global String'\n",
    "\n",
    "def funct():\n",
    "    name='Sammy'\n",
    "    def func2():\n",
    "        name='Something else here'\n",
    "        print(name)\n",
    "    func2()"
   ]
  },
  {
   "cell_type": "code",
   "execution_count": 3,
   "id": "21967005-31a5-4298-9e78-bc4ce38d9e23",
   "metadata": {},
   "outputs": [
    {
     "name": "stdout",
     "output_type": "stream",
     "text": [
      "Something else here\n"
     ]
    }
   ],
   "source": [
    "funct()"
   ]
  },
  {
   "cell_type": "markdown",
   "id": "7d559a85-62f8-46c1-adf9-8fdf6e00e8e7",
   "metadata": {},
   "source": [
    "Comment out seperate sections of name assignments to understand the scope of variables."
   ]
  },
  {
   "cell_type": "code",
   "execution_count": 5,
   "id": "8d3172c5-b395-465c-92a6-cb1927ba4ec2",
   "metadata": {},
   "outputs": [],
   "source": [
    "x = 50\n",
    "\n",
    "def f1(x):\n",
    "    print(f'X is {x}')\n",
    "    x=200\n",
    "    print(f'X is {x}')"
   ]
  },
  {
   "cell_type": "code",
   "execution_count": 6,
   "id": "ce738e07-abfa-478c-8fd8-075dd605a500",
   "metadata": {},
   "outputs": [
    {
     "name": "stdout",
     "output_type": "stream",
     "text": [
      "X is 50\n",
      "X is 200\n"
     ]
    }
   ],
   "source": [
    "f1(x)"
   ]
  },
  {
   "cell_type": "code",
   "execution_count": 7,
   "id": "82ea70f5-952e-4032-bf43-a2be70a87574",
   "metadata": {},
   "outputs": [
    {
     "name": "stdout",
     "output_type": "stream",
     "text": [
      "50\n"
     ]
    }
   ],
   "source": [
    "print(x)"
   ]
  }
 ],
 "metadata": {
  "kernelspec": {
   "display_name": "Python [conda env:base] *",
   "language": "python",
   "name": "conda-base-py"
  },
  "language_info": {
   "codemirror_mode": {
    "name": "ipython",
    "version": 3
   },
   "file_extension": ".py",
   "mimetype": "text/x-python",
   "name": "python",
   "nbconvert_exporter": "python",
   "pygments_lexer": "ipython3",
   "version": "3.13.5"
  }
 },
 "nbformat": 4,
 "nbformat_minor": 5
}
