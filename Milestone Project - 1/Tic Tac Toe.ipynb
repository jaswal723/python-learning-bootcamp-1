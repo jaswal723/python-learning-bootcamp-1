{
 "cells": [
  {
   "cell_type": "code",
   "execution_count": 3,
   "id": "fd5b759d-4251-475e-bb92-82205bbba2dc",
   "metadata": {},
   "outputs": [],
   "source": [
    "from IPython.display import  clear_output"
   ]
  },
  {
   "cell_type": "code",
   "execution_count": 4,
   "id": "b2397441-0481-4b03-97b4-23584d357950",
   "metadata": {},
   "outputs": [],
   "source": [
    "def player_1_icon():\n",
    "    choice = 'WRONG'\n",
    "    while ((choice in ['X','O','x','o']) == False):\n",
    "        choice = input(\"Player 1: Do you want to be X or O?: \")\n",
    "        if ((choice in ['X','O','x','o']) == False):\n",
    "            print(\"Invalid input. Please choose X or O.\")\n",
    "    if (choice.upper() == 'X'):\n",
    "        return ('X','O')\n",
    "    else:\n",
    "        return ('O','X')"
   ]
  },
  {
   "cell_type": "code",
   "execution_count": 5,
   "id": "e5ed0388-5c43-42a7-bea3-ce5da77f8587",
   "metadata": {},
   "outputs": [],
   "source": [
    "def check_start_input():\n",
    "    choice_input = 'WRONG'\n",
    "    while ((choice_input.lower() in ['yes','no']) == False):\n",
    "        choice_input = input(\"Are you ready to play (Yes or No): \")\n",
    "        if ((choice_input.lower() in ['yes','no']) == False):\n",
    "            print(\"Invalid input. Please choose Yes or No.\")\n",
    "    return choice_input.lower()"
   ]
  },
  {
   "cell_type": "code",
   "execution_count": 6,
   "id": "8a04a92b-a939-43d7-83b5-1c40cce2d4ac",
   "metadata": {},
   "outputs": [],
   "source": [
    "def reference_table():\n",
    "    print(\"Please find the reference below. Use the numbers to choose the position where you want to place your pointer.\\n\")\n",
    "    print(\"\\n\")\n",
    "    print(\"  1 | 2 | 3  \")\n",
    "    print(\" --- --- --- \")\n",
    "    print(\"  4 | 5 | 6  \")\n",
    "    print(\" --- --- --- \")\n",
    "    print(\"  7 | 8 | 9  \")\n",
    "    print(\"\\n\")"
   ]
  },
  {
   "cell_type": "code",
   "execution_count": 7,
   "id": "967deca9-bb04-412b-b417-294328104972",
   "metadata": {},
   "outputs": [],
   "source": [
    "def take_inputs():\n",
    "    choice_in = 'WRONG'\n",
    "    while ((choice_in in ['1','2','3','4','5','6','7','8','9']) == False):\n",
    "        choice_in = input(\"Choose the location (1-9): \")\n",
    "        if ((choice_in in ['1','2','3','4','5','6','7','8','9']) == False):\n",
    "            print(\"Invalid input. Please choose number between 1 to 9\")\n",
    "    return int(choice_in)"
   ]
  },
  {
   "cell_type": "code",
   "execution_count": 8,
   "id": "28ed1adb-ca29-4c20-b9ec-d092dbd69fbd",
   "metadata": {},
   "outputs": [],
   "source": [
    "def display_output(ul):\n",
    "    clear_output()\n",
    "    print(\"\\n\")\n",
    "    print(f\"  {ul[0]} | {ul[1]} | {ul[2]}  \")\n",
    "    print(\" --- --- --- \")\n",
    "    print(f\"  {ul[3]} | {ul[4]} | {ul[5]}  \")\n",
    "    print(\" --- --- --- \")\n",
    "    print(f\"  {ul[6]} | {ul[7]} | {ul[8]}  \")\n",
    "    print(\"\\n\")"
   ]
  },
  {
   "cell_type": "code",
   "execution_count": 9,
   "id": "284115cb-e8c3-4cca-9b87-e005f726d7ff",
   "metadata": {},
   "outputs": [],
   "source": [
    "def check_already_occupied(ul,i):\n",
    "    index = take_inputs()\n",
    "    while(ul[index-1]!=' '):\n",
    "        print(\"The location is already occupied.\")\n",
    "        index = take_inputs()\n",
    "    if i%2==0:\n",
    "        ul[index-1] = p1_icon\n",
    "    else:\n",
    "        ul[index-1] = p2_icon\n",
    "    display_output(ul)\n",
    "    return ul"
   ]
  },
  {
   "cell_type": "code",
   "execution_count": 10,
   "id": "5f08e455-78ec-43f0-b826-ef02ddf21236",
   "metadata": {},
   "outputs": [],
   "source": [
    "def default_function():\n",
    "    ul = [' ',' ',' ',' ',' ',' ',' ',' ',' ',]\n",
    "    i=0\n",
    "    won=False\n",
    "    while(i<9 and won==False):\n",
    "        ul = check_already_occupied(ul,i)\n",
    "        won=check_win(ul)\n",
    "        if (won==True and i%2==0):\n",
    "            print(\"Player 1 wins!\")\n",
    "        elif (won==True and i%2==1):\n",
    "            print(\"Player 2 wins!\")\n",
    "        else:\n",
    "            pass\n",
    "        i+=1\n",
    "    if won==True:\n",
    "        print(\"Thank you!\")\n",
    "    else:\n",
    "        print(\"Draw. Thank you!\")"
   ]
  },
  {
   "cell_type": "code",
   "execution_count": 11,
   "id": "87369c1b-38b5-4b8e-a1f9-17b383244354",
   "metadata": {},
   "outputs": [],
   "source": [
    "def check_win(ul):\n",
    "    if (ul[0]==ul[1]==ul[2]) and (ul[0]!=' ' and ul[1]!=' ' and ul[2]!=' '):\n",
    "        return True\n",
    "    elif (ul[3]==ul[4]==ul[5]) and (ul[3]!=' ' and ul[4]!=' ' and ul[5]!=' '):\n",
    "        return True\n",
    "    elif (ul[6]==ul[7]==ul[8]) and (ul[6]!=' ' and ul[7]!=' ' and ul[8]!=' '):\n",
    "        return True\n",
    "    elif (ul[0]==ul[3]==ul[6]) and (ul[0]!=' ' and ul[3]!=' ' and ul[6]!=' '):\n",
    "        return True\n",
    "    elif (ul[1]==ul[4]==ul[7]) and (ul[1]!=' ' and ul[4]!=' ' and ul[7]!=' '):\n",
    "        return True\n",
    "    elif (ul[2]==ul[5]==ul[8]) and (ul[2]!=' ' and ul[5]!=' ' and ul[8]!=' '):\n",
    "        return True\n",
    "    elif (ul[0]==ul[4]==ul[8]) and (ul[0]!=' ' and ul[4]!=' ' and ul[8]!=' '):\n",
    "        return True\n",
    "    elif (ul[2]==ul[4]==ul[6]) and (ul[2]!=' ' and ul[4]!=' ' and ul[6]!=' '):\n",
    "        return True\n",
    "    else:\n",
    "        return False"
   ]
  },
  {
   "cell_type": "code",
   "execution_count": 12,
   "id": "20e7f9e2-85ba-4da5-8d4f-339bbb52c2e2",
   "metadata": {},
   "outputs": [],
   "source": [
    "def want_to_play_again():\n",
    "    choice_input = 'WRONG'\n",
    "    while ((choice_input.lower() in ['yes','no']) == False):\n",
    "        choice_input = input(\"Do you want to play again? (Yes or No): \")\n",
    "        if ((choice_input.lower() in ['yes','no']) == False):\n",
    "            print(\"Invalid input. Please choose Yes or No.\")\n",
    "    if choice_input.lower() == 'yes':\n",
    "        return True\n",
    "    else:\n",
    "        return False  "
   ]
  },
  {
   "cell_type": "code",
   "execution_count": 13,
   "id": "565c1763-af13-4397-85e9-abfc75abc223",
   "metadata": {},
   "outputs": [
    {
     "name": "stdout",
     "output_type": "stream",
     "text": [
      "\n",
      "\n",
      "  X |   | X  \n",
      " --- --- --- \n",
      "  O | O | O  \n",
      " --- --- --- \n",
      "  X | O | X  \n",
      "\n",
      "\n",
      "Player 2 wins!\n",
      "Thank you!\n"
     ]
    },
    {
     "name": "stdin",
     "output_type": "stream",
     "text": [
      "Do you want to play again? (Yes or No):  no\n"
     ]
    },
    {
     "name": "stdout",
     "output_type": "stream",
     "text": [
      "Thank you for playing! Have a great day.\n"
     ]
    }
   ],
   "source": [
    "print(\"Welcome to Tic Tac Toe!\")\n",
    "play_again = True\n",
    "while(play_again==True):\n",
    "    p1_icon,p2_icon = player_1_icon()\n",
    "    print(\"Player 1 will go first.\")\n",
    "    input_response = check_start_input()\n",
    "    if(input_response=='yes'):\n",
    "        reference_table()\n",
    "        default_function()\n",
    "    else:\n",
    "        print(\"Closing the Game, Thank you!\")\n",
    "    play_again = want_to_play_again()\n",
    "print(\"Thank you for playing! Have a great day.\")"
   ]
  }
 ],
 "metadata": {
  "kernelspec": {
   "display_name": "Python [conda env:base] *",
   "language": "python",
   "name": "conda-base-py"
  },
  "language_info": {
   "codemirror_mode": {
    "name": "ipython",
    "version": 3
   },
   "file_extension": ".py",
   "mimetype": "text/x-python",
   "name": "python",
   "nbconvert_exporter": "python",
   "pygments_lexer": "ipython3",
   "version": "3.13.5"
  }
 },
 "nbformat": 4,
 "nbformat_minor": 5
}
