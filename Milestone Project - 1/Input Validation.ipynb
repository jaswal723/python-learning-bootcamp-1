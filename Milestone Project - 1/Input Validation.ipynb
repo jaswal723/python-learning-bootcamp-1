{
 "cells": [
  {
   "cell_type": "code",
   "execution_count": 1,
   "id": "6f2a1561-af42-43f8-bc5f-9c0d65064e99",
   "metadata": {},
   "outputs": [],
   "source": [
    "def take_input():\n",
    "    choice = 'WRONG'\n",
    "    acceptable_range = [1,2,3,4,5,6,7,8,9,10]\n",
    "    within_range = False\n",
    "\n",
    "    while choice.isdigit() == False or within_range == False:\n",
    "        choice = input(\"Enter a number between 1 to 10: \")\n",
    "        if choice.isdigit() == False:\n",
    "            print(\"Invalid input. Please enter a digit\")\n",
    "        if choice.isdigit() == True:\n",
    "            if int(choice) in acceptable_range:\n",
    "                within_range = True\n",
    "            else:\n",
    "                print(\"Invalid range. The number should be between 1 to 10.\")\n",
    "                within_range = False\n",
    "    return int(choice)"
   ]
  },
  {
   "cell_type": "code",
   "execution_count": 2,
   "id": "0a1a3008-37a4-48eb-9805-d8cd13a5d954",
   "metadata": {},
   "outputs": [
    {
     "name": "stdin",
     "output_type": "stream",
     "text": [
      "Enter a number between 1 to 10:  two\n"
     ]
    },
    {
     "name": "stdout",
     "output_type": "stream",
     "text": [
      "Invalid input. Please enter a digit\n"
     ]
    },
    {
     "name": "stdin",
     "output_type": "stream",
     "text": [
      "Enter a number between 1 to 10:  11\n"
     ]
    },
    {
     "name": "stdout",
     "output_type": "stream",
     "text": [
      "Invalid range. The number should be between 1 to 10.\n"
     ]
    },
    {
     "name": "stdin",
     "output_type": "stream",
     "text": [
      "Enter a number between 1 to 10:  7\n"
     ]
    },
    {
     "data": {
      "text/plain": [
       "7"
      ]
     },
     "execution_count": 2,
     "metadata": {},
     "output_type": "execute_result"
    }
   ],
   "source": [
    "take_input()"
   ]
  }
 ],
 "metadata": {
  "kernelspec": {
   "display_name": "Python [conda env:base] *",
   "language": "python",
   "name": "conda-base-py"
  },
  "language_info": {
   "codemirror_mode": {
    "name": "ipython",
    "version": 3
   },
   "file_extension": ".py",
   "mimetype": "text/x-python",
   "name": "python",
   "nbconvert_exporter": "python",
   "pygments_lexer": "ipython3",
   "version": "3.13.5"
  }
 },
 "nbformat": 4,
 "nbformat_minor": 5
}
