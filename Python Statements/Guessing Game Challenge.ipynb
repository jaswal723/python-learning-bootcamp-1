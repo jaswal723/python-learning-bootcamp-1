{
 "cells": [
  {
   "cell_type": "markdown",
   "metadata": {},
   "source": [
    "# Guessing Game Challenge\n",
    "\n",
    "Let's use `while` loops to create a guessing game.\n",
    "\n",
    "The Challenge:\n",
    "\n",
    "Write a program that picks a random integer from 1 to 100, and has players guess the number. The rules are:\n",
    "\n",
    "1. If a player's guess is less than 1 or greater than 100, say \"OUT OF BOUNDS\"\n",
    "2. On a player's first turn, if their guess is\n",
    " * within 10 of the number, return \"WARM!\"\n",
    " * further than 10 away from the number, return \"COLD!\"\n",
    "3. On all subsequent turns, if a guess is \n",
    " * closer to the number than the previous guess return \"WARMER!\"\n",
    " * farther from the number than the previous guess, return \"COLDER!\"\n",
    "4. When the player's guess equals the number, tell them they've guessed correctly *and* how many guesses it took!\n"
   ]
  },
  {
   "cell_type": "code",
   "execution_count": null,
   "metadata": {},
   "outputs": [],
   "source": [
    "from random import randint"
   ]
  },
  {
   "cell_type": "code",
   "execution_count": null,
   "metadata": {},
   "outputs": [],
   "source": [
    "secret_number = randint(1,101)"
   ]
  },
  {
   "cell_type": "code",
   "execution_count": null,
   "metadata": {},
   "outputs": [],
   "source": [
    "user_number = None\n",
    "indentation_count = 1\n",
    "\n",
    "while(user_number != secret_number):\n",
    "    user_number = int(input('Make a guess between 1 to 100'))\n",
    "    if (user_number<1 or user_number>100):\n",
    "        print(\"OUT OF BOUNDS\")\n",
    "    elif(user_number == secret_number):\n",
    "        break\n",
    "    elif(indentation_count == 1):\n",
    "        if user_number in range(secret_number-10,secret_number+11):\n",
    "            print(\"WARM!\")\n",
    "        else:\n",
    "            print(\"COLD!\")\n",
    "    else:\n",
    "        if (abs(secret_number-user_number) < abs(secret_number-last_used)):\n",
    "            print(\"WARMER!\")\n",
    "        elif(abs(secret_number-user_number) == abs(secret_number-last_used)):\n",
    "            print(\"SAME AS LAST GUESS!\")\n",
    "        else:\n",
    "            print(\"COLDER!\")\n",
    "    indentation_count+=1\n",
    "    last_used = user_number\n",
    "\n",
    "print(f\"Excellent Guess, {secret_number} is the correct number. Attempts taken: {indentation_count}\")"
   ]
  }
 ],
 "metadata": {
  "kernelspec": {
   "display_name": "Python [conda env:base] *",
   "language": "python",
   "name": "conda-base-py"
  },
  "language_info": {
   "codemirror_mode": {
    "name": "ipython",
    "version": 3
   },
   "file_extension": ".py",
   "mimetype": "text/x-python",
   "name": "python",
   "nbconvert_exporter": "python",
   "pygments_lexer": "ipython3",
   "version": "3.13.5"
  }
 },
 "nbformat": 4,
 "nbformat_minor": 4
}
