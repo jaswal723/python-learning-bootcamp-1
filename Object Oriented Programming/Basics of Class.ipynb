{
 "cells": [
  {
   "cell_type": "code",
   "execution_count": 1,
   "id": "7ef8621e-a22c-41e0-8e85-4ed3e23d44eb",
   "metadata": {},
   "outputs": [],
   "source": [
    "class NameOfClass():\n",
    "    def __init__(self,param1,param2):\n",
    "        self.param1=param1\n",
    "        self.param2=param2\n",
    "    def some_method(self):\n",
    "        #Perform some actions\n",
    "        print(self.param1)"
   ]
  },
  {
   "cell_type": "code",
   "execution_count": 3,
   "id": "7675742d-03bf-41cd-8a3f-5c06f58bbea8",
   "metadata": {},
   "outputs": [],
   "source": [
    "mytest = NameOfClass(1,2)"
   ]
  },
  {
   "cell_type": "code",
   "execution_count": 4,
   "id": "50cf6a8c-927b-485f-bbb2-0df53c20bd52",
   "metadata": {},
   "outputs": [
    {
     "data": {
      "text/plain": [
       "__main__.NameOfClass"
      ]
     },
     "execution_count": 4,
     "metadata": {},
     "output_type": "execute_result"
    }
   ],
   "source": [
    "type(mytest)"
   ]
  },
  {
   "cell_type": "code",
   "execution_count": 5,
   "id": "73fab1be-f7b6-450f-a7c1-f738c8d9973e",
   "metadata": {},
   "outputs": [],
   "source": [
    "class Dog():\n",
    "    species = \"Mammal\"\n",
    "    def __init__(self,breed,name,spots):\n",
    "        self.breed = breed\n",
    "        self.name = name\n",
    "        self.spots = spots\n",
    "    def bark(self):\n",
    "        print(f'{self.name} says WOOF!')\n",
    "    "
   ]
  },
  {
   "cell_type": "code",
   "execution_count": 6,
   "id": "b945617b-3cad-417a-a4c7-34e6b83dc695",
   "metadata": {},
   "outputs": [],
   "source": [
    "mydog = Dog(\"Golden Retriever\",\"Simba\",False)"
   ]
  },
  {
   "cell_type": "code",
   "execution_count": 7,
   "id": "580a1dbc-046a-4098-be12-e0cef91c2543",
   "metadata": {},
   "outputs": [
    {
     "name": "stdout",
     "output_type": "stream",
     "text": [
      "Simba says WOOF!\n"
     ]
    }
   ],
   "source": [
    "mydog.bark()"
   ]
  },
  {
   "cell_type": "code",
   "execution_count": 8,
   "id": "2f6c284d-0c8a-45eb-9d93-d1ee2df1e2af",
   "metadata": {},
   "outputs": [
    {
     "data": {
      "text/plain": [
       "False"
      ]
     },
     "execution_count": 8,
     "metadata": {},
     "output_type": "execute_result"
    }
   ],
   "source": [
    "mydog.spots"
   ]
  },
  {
   "cell_type": "code",
   "execution_count": 9,
   "id": "e437324a-7096-4ccb-9fd9-b12b27e38871",
   "metadata": {},
   "outputs": [],
   "source": [
    "class Circle():\n",
    "    pi = 3.14\n",
    "    def __init__(self,radius=1):\n",
    "        self.radius = radius\n",
    "        self.area = radius *radius * Circle.pi\n",
    "    def get_circumference(self):\n",
    "        return self.radius * Circle.pi *2"
   ]
  },
  {
   "cell_type": "code",
   "execution_count": 10,
   "id": "fdd1d857-143e-486b-b9ad-b410b1ace4ae",
   "metadata": {},
   "outputs": [],
   "source": [
    "my_circle = Circle(5)"
   ]
  },
  {
   "cell_type": "code",
   "execution_count": 11,
   "id": "1362ab7b-7039-4764-98db-7ead149b8ea7",
   "metadata": {},
   "outputs": [
    {
     "data": {
      "text/plain": [
       "78.5"
      ]
     },
     "execution_count": 11,
     "metadata": {},
     "output_type": "execute_result"
    }
   ],
   "source": [
    "my_circle.area"
   ]
  },
  {
   "cell_type": "code",
   "execution_count": 12,
   "id": "724dc736-8b20-4122-ba59-abcd9bd36182",
   "metadata": {},
   "outputs": [
    {
     "data": {
      "text/plain": [
       "31.400000000000002"
      ]
     },
     "execution_count": 12,
     "metadata": {},
     "output_type": "execute_result"
    }
   ],
   "source": [
    "my_circle.get_circumference()"
   ]
  }
 ],
 "metadata": {
  "kernelspec": {
   "display_name": "Python [conda env:base] *",
   "language": "python",
   "name": "conda-base-py"
  },
  "language_info": {
   "codemirror_mode": {
    "name": "ipython",
    "version": 3
   },
   "file_extension": ".py",
   "mimetype": "text/x-python",
   "name": "python",
   "nbconvert_exporter": "python",
   "pygments_lexer": "ipython3",
   "version": "3.13.5"
  }
 },
 "nbformat": 4,
 "nbformat_minor": 5
}
